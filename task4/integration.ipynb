{
 "cells": [
  {
   "cell_type": "code",
   "execution_count": 250,
   "metadata": {},
   "outputs": [],
   "source": [
    "import numpy as np\n",
    "import matplotlib.pyplot as plt\n",
    "\n",
    "from typing import Callable, List, Tuple\n",
    "\n",
    "N = 200\n",
    "eps = 10**9"
   ]
  },
  {
   "cell_type": "markdown",
   "metadata": {},
   "source": [
    "$$\\int^1_0\\frac {sin(\\pi x^5)dx} {x^5 (1 - x)}$$\n",
    "У интеграла две особенности\n",
    "$$ \\lim_{x \\rightarrow 0} \\frac {\\sin(\\pi x^5)} {x^5 (1 - x)} = \n",
    "    \\pi \\cdot \\lim_{x \\rightarrow 0} \\frac {\\sin(\\pi x^5)} {\\pi x^5} \\cdot \\frac {1}{ 1 - x } = \\pi $$\n",
    "\n",
    "$$ \\lim_{x \\rightarrow 1} \\frac {\\sin(\\pi x^5)} {x^5 (1 - x)} = (0/0) =\n",
    "    \\pi \\cdot \\lim_{x \\rightarrow 1} \\frac {5x^4 \\cdot \\cos(\\pi x^5)} {5x^4 - 6x^5} = \n",
    "    \\pi \\cdot \\lim_{x \\rightarrow 1} \\frac {5\\cos(\\pi x ^ 5)} { 5 - 6x } = 5 \\pi $$\n",
    "    \n",
    "Следовательно можно доопределить по непрерывности функцию в точке ноль и значение интеграла Римана не \n",
    "поменяется\n"
   ]
  },
  {
   "cell_type": "code",
   "execution_count": 251,
   "metadata": {},
   "outputs": [],
   "source": [
    "def f(x : float) -> float:\n",
    "    if (np.abs(x) < eps) :\n",
    "        return np.pi \n",
    "    if (np.abs(x - 1) < eps):\n",
    "        return 5 * np.pi\n",
    "    return np.sin(np.pi * x ** 5) / ( x ** 5 * (1 - x))"
   ]
  },
  {
   "cell_type": "markdown",
   "metadata": {},
   "source": [
    "$$\\int_0^\\infty e ^ { -\\sqrt{x} + \\sin(x/10) } dx = \n",
    "\\int_0^1 \\frac {e ^ { -\\sqrt {\\frac {t} {1 - t}} + \\sin( \\frac {t} {10(1 - t)})} } {(1 - t)^2}dt\n",
    "$$"
   ]
  },
  {
   "cell_type": "code",
   "execution_count": 252,
   "metadata": {},
   "outputs": [],
   "source": [
    "def g(t):\n",
    "    x = t / (1 - t)\n",
    "    return np.e ** (-np.sqrt(x) + np.sin(x/10))"
   ]
  },
  {
   "cell_type": "code",
   "execution_count": 253,
   "metadata": {},
   "outputs": [],
   "source": [
    "\n",
    "def test(x : float) -> float: \n",
    "    return np.sin(x) \n"
   ]
  },
  {
   "cell_type": "code",
   "execution_count": 254,
   "metadata": {},
   "outputs": [],
   "source": [
    "#simpson formula\n",
    "def integration(f : Callable[[float], float], interval : Tuple[float, float], n : int) -> float:\n",
    "    a, b = interval\n",
    "    h = (b - a) / n\n",
    "    res = 0\n",
    "    for i in range(1, n, 2):\n",
    "        res += f(a + (i - 1) * h) + 4 * f(a + i * h) + f(a + (i + 1) * h)\n",
    "    res *= h / 3\n",
    "    return res "
   ]
  },
  {
   "cell_type": "markdown",
   "metadata": {},
   "source": [
    "$$ \\int_{-1}^1 f(x) dx = \\sum_{i = 1}^n w_i f(x_i)$$\n",
    "где $w_i$ - вес квадратуры, $x_i$ - корни полинома лежандра\n",
    "\n",
    "Метод Гаусса порядка 3\n",
    "$$ \n",
    "x_0 = -\\sqrt{\\frac{3}{5}} \\; w_0 = \\frac {5}{9}\\\\\n",
    "x_1 = 0 \\; w_0 = \\frac{8}{9} \\\\\n",
    "x_2 = \\sqrt{\\frac{3}{5}} \\; w_0 = \\frac {5}{9}\\\\\n",
    "$$\n",
    "\n",
    "Как интегрировать функцию по произвольному промежутку $[a, b]$? Для этого воспользуемся следующей заменой\n",
    "$$\\int_a^bf(x)dx = \\frac{b - a}{2} \\cdot \\int_{-1}^{1}f(\\frac{b + a}{2} + \\frac{b - a}{2} t)dt$$\n",
    "\n",
    "Порядок сходимости простой формулы $$|R_n| \\le \\frac{n!}{(2n + 1)(2n!)^3 } M_{2n}(b - a)^{2n + 1}$$\n",
    "Порядок сходимости составной формулы $O(h^{2n})$"
   ]
  },
  {
   "cell_type": "code",
   "execution_count": 255,
   "metadata": {},
   "outputs": [],
   "source": [
    "# Gauss formula for n = 3\n",
    "\n",
    "def gauss_integration_impl(f: Callable[[float], float]):\n",
    "    # some static data\n",
    "    roots = [-np.sqrt(3/5), 0, np.sqrt(3/5)]\n",
    "    weight = [5/9, 8/9, 5/9]\n",
    "    order = 3\n",
    "\n",
    "    return sum(weight[i] * f(roots[i]) for i in range(order))\n",
    "\n",
    "def gauss_integration(f: Callable[[float], float], interval : Tuple[float, float], n : int):\n",
    "    a, b = interval\n",
    "    h = (b - a) / n\n",
    "    res = 0\n",
    "    for i in range(0, n): \n",
    "        l, r = a + i * h, a + (i + 1) * h\n",
    "        k1 = (r - l) / 2 \n",
    "        k2 = (r + l) / 2\n",
    "        res += k1 * gauss_integration_impl(lambda t : f(k2 + k1 * t))\n",
    "    \n",
    "    return res\n",
    "\n"
   ]
  },
  {
   "cell_type": "markdown",
   "metadata": {},
   "source": [
    "теперь когда результат интегрирования неизвестен будем сравнивать I1 и I2 \n",
    "$$ I_1 = I + C \\cdot (R_1)^p $$\n",
    "$$ I_2 = I + C \\cdot (R_2)^p $$\n",
    "$$ I_3 = I + C \\cdot (R_3)^p $$\n",
    "\n",
    "$$ I_2 - I_3 =  C \\cdot (R_2 ^ p - R_3 ^ p) $$\n",
    "$$ I_1 - I_3 = C \\cdot (R_1 ^ p - R_3 ^ p) $$\n",
    "$$ \\frac {I_1 - I_3} {I_2 - I_3} = \\frac {R_1 ^ p - R_3 ^ p} {R_2 ^ p - R_3 ^ p} $$\n",
    "\n",
    "Неизвестные C, p, I\\\n",
    "magic happens: $$ 2^p $$\n",
    "\n",
    "\n"
   ]
  },
  {
   "cell_type": "code",
   "execution_count": 256,
   "metadata": {},
   "outputs": [],
   "source": [
    "def calc_order(f: Callable[[float], float], interval : Tuple[float, float], n : int, method : Callable) -> float:\n",
    "    I3 = method(test, interval, n//4)\n",
    "    I2 = method(test, interval, n//2)\n",
    "    I1 = method(test, interval, n)\n",
    "    T1 = np.abs(I1 - I2)\n",
    "    T2 = np.abs(I2 - I3)\n",
    "\n",
    "    order = np.log2(T2/T1)\n",
    "    return order"
   ]
  },
  {
   "cell_type": "code",
   "execution_count": 257,
   "metadata": {},
   "outputs": [
    {
     "name": "stdout",
     "output_type": "stream",
     "text": [
      "Порядок сходимости на тестовом интеграле: \n",
      "Формула Симпсона 3.999807630466989\n",
      "Квадратура Гаусса при n=3 6.360797070956693\n"
     ]
    }
   ],
   "source": [
    "print(\"Порядок сходимости на тестовом интеграле: \")\n",
    "print(\"Формула Симпсона\", calc_order(test, interval=(0, np.pi), method=integration, n=1000))\n",
    "print(\"Квадратура Гаусса при n=3\", calc_order(test, interval=(0, np.pi), method=gauss_integration, n=50))"
   ]
  },
  {
   "cell_type": "code",
   "execution_count": 258,
   "metadata": {},
   "outputs": [
    {
     "name": "stdout",
     "output_type": "stream",
     "text": [
      "Порядок сходимости на первом интеграле: \n",
      "Формула Симпсона 3.993871682508878\n",
      "Квадратура Гаусса при n=3 6.159340250801146\n",
      "Значение интеграла:  3.141592653589787\n"
     ]
    }
   ],
   "source": [
    "print(\"Порядок сходимости на первом интеграле: \")\n",
    "print(\"Формула Симпсона\", calc_order(f, interval=(0, 1), method=integration, n=1000))\n",
    "print(\"Квадратура Гаусса при n=3\", calc_order(f, interval=(0, 1), method=gauss_integration, n=50))\n",
    "print(\"Значение интеграла: \", gauss_integration(f, (0, 1), 100))"
   ]
  },
  {
   "cell_type": "code",
   "execution_count": 259,
   "metadata": {},
   "outputs": [
    {
     "name": "stdout",
     "output_type": "stream",
     "text": [
      "Порядок сходимости на втором интеграле: \n",
      "Формула Симпсона 3.993871682508878\n",
      "Квадратура Гаусса при n=3 6.159340250801146\n",
      "Значение интеграла:  0.4125133054639926\n"
     ]
    }
   ],
   "source": [
    "print(\"Порядок сходимости на втором интеграле: \")\n",
    "print(\"Формула Симпсона\", calc_order(g, interval=(0, 1), method=integration, n=1000))\n",
    "print(\"Квадратура Гаусса при n=3\", calc_order(g, interval=(0, 1), method=gauss_integration, n=50))\n",
    "print(\"Значение интеграла: \", gauss_integration(g, (0, 1), 50))"
   ]
  }
 ],
 "metadata": {
  "kernelspec": {
   "display_name": "Python 3",
   "language": "python",
   "name": "python3"
  },
  "language_info": {
   "codemirror_mode": {
    "name": "ipython",
    "version": 3
   },
   "file_extension": ".py",
   "mimetype": "text/x-python",
   "name": "python",
   "nbconvert_exporter": "python",
   "pygments_lexer": "ipython3",
   "version": "3.10.12"
  }
 },
 "nbformat": 4,
 "nbformat_minor": 2
}
