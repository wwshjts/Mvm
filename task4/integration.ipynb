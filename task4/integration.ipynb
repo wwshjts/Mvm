{
 "cells": [
  {
   "cell_type": "code",
   "execution_count": 12,
   "metadata": {},
   "outputs": [],
   "source": [
    "import numpy as np\n",
    "\n",
    "from typing import Callable, List, Tuple\n",
    "\n",
    "N = 200\n",
    "eps = 10**9"
   ]
  },
  {
   "cell_type": "markdown",
   "metadata": {},
   "source": [
    "$$\\int^1_0\\frac {sin(\\pi x^5)dx} {x^5 (1 - x)}$$\n",
    "У интеграла две особенности\n",
    "$$ \\lim_{x \\rightarrow 0} \\frac {\\sin(\\pi x^5)} {x^5 (1 - x)} = \n",
    "    \\pi \\cdot \\lim_{x \\rightarrow 0} \\frac {\\sin(\\pi x^5)} {\\pi x^5} \\cdot \\frac {1}{ 1 - x } = \\pi $$\n",
    "\n",
    "$$ \\lim_{x \\rightarrow 1} \\frac {\\sin(\\pi x^5)} {x^5 (1 - x)} = (0/0) =\n",
    "    \\pi \\cdot \\lim_{x \\rightarrow 1} \\frac {5x^4 \\cdot \\cos(\\pi x^5)} {5x^4 - 6x^5} = \n",
    "    \\pi \\cdot \\lim_{x \\rightarrow 1} \\frac {5\\cos(\\pi x ^ 5)} { 5 - 6x } = 5 \\pi $$\n",
    "    \n",
    "Следовательно можно доопределить по непрерывности функцию в точке ноль и значение интеграла Римана не \n",
    "поменяется\n"
   ]
  },
  {
   "cell_type": "code",
   "execution_count": 13,
   "metadata": {},
   "outputs": [],
   "source": [
    "def f(x : float) -> float:\n",
    "    if (np.abs(x) < eps) :\n",
    "        return np.pi \n",
    "    if (np.abs(x - 1) < eps):\n",
    "        return 5 * np.pi\n",
    "    return np.sin(np.pi * x ** 5) / ( x ** 5 * (1 - x))"
   ]
  },
  {
   "cell_type": "markdown",
   "metadata": {},
   "source": [
    "$$\\int_0^\\infty e ^ { -\\sqrt{x} + \\sin(x/10) } dx = \n",
    "\\int_0^1 \\frac {e ^ { -\\sqrt {\\frac {t} {1 - t}} + \\sin( \\frac {t} {10(1 - t)})} } {(1 - t)^2}dt\n",
    "$$"
   ]
  },
  {
   "cell_type": "code",
   "execution_count": 14,
   "metadata": {},
   "outputs": [],
   "source": [
    "def g(t):\n",
    "    x = t / (1 - t)\n",
    "    return np.e ** (-np.sqrt(x) + np.sin(x/10))"
   ]
  },
  {
   "cell_type": "code",
   "execution_count": 15,
   "metadata": {},
   "outputs": [],
   "source": [
    "\n",
    "def h(x : float) -> float: \n",
    "    return np.sin(x) \n"
   ]
  },
  {
   "cell_type": "code",
   "execution_count": 16,
   "metadata": {},
   "outputs": [],
   "source": [
    "#simpson formula\n",
    "def integration(f : Callable[[float], float], interval : Tuple[float, float], n : int) -> float:\n",
    "    a, b = interval\n",
    "    h = (b - a) / n\n",
    "    res = 0\n",
    "    for i in range(1, n, 2):\n",
    "        res += f(a + (i - 1) * h) + 4 * f(a + i * h) + f(a + (i + 1) * h)\n",
    "    res *= h / 3\n",
    "    return res "
   ]
  },
  {
   "cell_type": "code",
   "execution_count": 41,
   "metadata": {},
   "outputs": [
    {
     "name": "stdout",
     "output_type": "stream",
     "text": [
      "[0.10607664563865948, 0.5321710457406024, 1.195974179640123, 1.94561847394967, 2.6094216078491907, 3.0355160079511334]\n"
     ]
    },
    {
     "data": {
      "text/plain": [
       "2.0000000237618814"
      ]
     },
     "execution_count": 41,
     "metadata": {},
     "output_type": "execute_result"
    }
   ],
   "source": [
    "# Gauss formula for n = 6\n",
    "\n",
    "gauss_order = 6 \n",
    "\n",
    "#some static data\n",
    "t = [-0.93246951, 0.93246951, -0.66120939, 0.66120939, -0.23861919, 0.23861919]\n",
    "A = [0.17132450, 0.36076158, 0.46791394, 0.46791394, 0.36076158, 0.17132450]\n",
    "\n",
    "def gauss_integration(f: Callable[[float], float], interval : Tuple[float, float], n : int):\n",
    "    a, b = interval\n",
    "    h = (b - a) / (n - 1)\n",
    "    half_sum = (b + a) / 2\n",
    "    half_difference = (b - a) / 2\n",
    "    x = [half_sum + half_difference * t[i] for i in range(n)]\n",
    "    c = [((b - a) / 2) * A[i] * f(x[i]) for i in range(n)]\n",
    "    print(x)\n",
    "\n",
    "    return (sum(c))\n",
    "\n",
    "gauss_integration(h, (0, np.pi), gauss_order)\n"
   ]
  },
  {
   "cell_type": "markdown",
   "metadata": {},
   "source": [
    "Оценка порядка на тестовом интеграле:\\\n",
    "Теретическая оценка порядка  $O(h^4)$\n",
    "Как получить оценку на практике?\n",
    "У нас есть эталонный интеграл $$I = \\int_{0}^\\pi \\sin(x) dx = 2$$\n",
    "\n",
    "Посчитаем интеграл $I_1$ с шагом $h$. Остаток $R_1 = |I - I_1|$ Затем уменьшим шаг в $k$ раз и вычислим $I_2$, $R_2 = |I - I_2|$\n",
    "Далее вычисляем"
   ]
  },
  {
   "cell_type": "code",
   "execution_count": 38,
   "metadata": {},
   "outputs": [
    {
     "name": "stdout",
     "output_type": "stream",
     "text": [
      "2.000000000001081\n",
      "1.0014221446\n"
     ]
    }
   ],
   "source": [
    "I = 2 # эталонный интеграл\n",
    "interval = (0, np.pi)\n",
    "I1 = integration(h, interval, 100)\n",
    "I2 = integration(h, interval, 1000)\n",
    "\n",
    "R1 = np.abs(I1 - I)\n",
    "R2 = np.abs(I2 - I)\n",
    "R = (R1 / R2) / 10 ** 4 # R1 = h ** 4 R2 = h ** 4 / 10**4 order like 10**4 \n",
    "print(f\"{R:.10f}\")"
   ]
  },
  {
   "cell_type": "markdown",
   "metadata": {},
   "source": [
    "теперь когда результат интегрирования неизвестен будем сравнивать I1 и I2 \n",
    "$$ I_1 = I + C \\cdot (R_1)^p $$\n",
    "$$ I_2 = I + C \\cdot (R_2)^p $$\n",
    "$$ I_3 = I + C \\cdot (R_3)^p $$\n",
    "\n",
    "$$ I_2 - I_3 =  C \\cdot (R_2 ^ p - R_3 ^ p) $$\n",
    "$$ I_1 - I_3 = C \\cdot (R_1 ^ p - R_3 ^ p) $$\n",
    "$$ \\frac {I_1 - I_3} {I_2 - I_3} = \\frac {R_1 ^ p - R_3 ^ p} {R_2 ^ p - R_3 ^ p} $$\n",
    "\n",
    "Неизвестные C, p, I\n",
    "\n",
    "\n"
   ]
  },
  {
   "cell_type": "code",
   "execution_count": 37,
   "metadata": {},
   "outputs": [
    {
     "name": "stdout",
     "output_type": "stream",
     "text": [
      "1.2368421053\n"
     ]
    }
   ],
   "source": [
    "\n",
    "interval = (0, 1)\n",
    "\n",
    "I1 = integration(f, interval, 10)\n",
    "I2 = integration(f, interval, 100)\n",
    "I3 = integration(f, interval, 1000)\n",
    "T1 = np.abs(I1 - I3)\n",
    "T2 = np.abs(I2 - I3)\n",
    "\n",
    "\n",
    "\n",
    "R = (T1 / T2)\n",
    "print(f\"{R:.10f}\")\n",
    "\n"
   ]
  }
 ],
 "metadata": {
  "kernelspec": {
   "display_name": "Python 3",
   "language": "python",
   "name": "python3"
  },
  "language_info": {
   "codemirror_mode": {
    "name": "ipython",
    "version": 3
   },
   "file_extension": ".py",
   "mimetype": "text/x-python",
   "name": "python",
   "nbconvert_exporter": "python",
   "pygments_lexer": "ipython3",
   "version": "3.10.12"
  }
 },
 "nbformat": 4,
 "nbformat_minor": 2
}
